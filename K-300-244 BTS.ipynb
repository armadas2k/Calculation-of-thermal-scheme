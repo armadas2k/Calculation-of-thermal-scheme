{
 "cells": [
  {
   "cell_type": "markdown",
   "id": "db2ab537",
   "metadata": {},
   "source": [
    "### Расчет тепловой схемы К-220-44"
   ]
  },
  {
   "cell_type": "code",
   "execution_count": 1,
   "id": "c5304121",
   "metadata": {},
   "outputs": [],
   "source": [
    "# Импортируем необходимые библиотеки\n",
    "from CoolProp.CoolProp import PropsSI # параметры воды и пара\n",
    "import numpy as np                    # работа с массивами\n",
    "import pandas as pd                   # работа с таблицами\n",
    "import sympy as sym                   # модуль для символьного исчисления"
   ]
  },
  {
   "cell_type": "code",
   "execution_count": 78,
   "id": "3f2ee848",
   "metadata": {},
   "outputs": [],
   "source": [
    "# Исходные данные Давления в МПа\n",
    "P1 = 2.786 \n",
    "P2 = 1.93 \n",
    "P3 = 1.288 \n",
    "P4 = 0.508 \n",
    "P5 = 0.3 \n",
    "P6 = 0.127 \n",
    "P7 = 0.058 \n",
    "P8 = 0.029\n",
    "Pk = 0.005\n",
    "\n",
    "Potb = np.array([P1, P2, P3, P4, P5, P6, P7, P8, Pk])\n",
    "\n",
    "# Исходные данные по температурам, С\n",
    "t1 = 229.8\n",
    "t2 = 210.7\n",
    "t3 = 196.2\n",
    "t4 = 152.4\n",
    "t5 = 134.4\n",
    "t6 = 118\n",
    "t7 = 101\n",
    "t8 = 68.4\n",
    "\n",
    "totb = np.array([t1, t2, t3, t4, t5, t6, t7, t8])\n",
    "\n",
    "# Данные по КПД\n",
    "KPDcvd = 0.79\n",
    "KPDcnd = 0.865\n",
    "\n",
    "# Начальные параметры пара\n",
    "P0 = 4.4 * 10 **6\n",
    "X0 = 1\n",
    "tpv = 225\n",
    "\n",
    "Ne = 220 \n",
    "t0 = 450"
   ]
  },
  {
   "cell_type": "markdown",
   "id": "0645616f",
   "metadata": {},
   "source": [
    "### Определение энтальпий в отборах и построение процесса в h-S диаграмме "
   ]
  },
  {
   "cell_type": "code",
   "execution_count": 80,
   "id": "c5e4dd36",
   "metadata": {},
   "outputs": [
    {
     "data": {
      "text/html": [
       "<div>\n",
       "<style scoped>\n",
       "    .dataframe tbody tr th:only-of-type {\n",
       "        vertical-align: middle;\n",
       "    }\n",
       "\n",
       "    .dataframe tbody tr th {\n",
       "        vertical-align: top;\n",
       "    }\n",
       "\n",
       "    .dataframe thead th {\n",
       "        text-align: right;\n",
       "    }\n",
       "</style>\n",
       "<table border=\"1\" class=\"dataframe\">\n",
       "  <thead>\n",
       "    <tr style=\"text-align: right;\">\n",
       "      <th></th>\n",
       "      <th>Давления в отборах</th>\n",
       "      <th>Энтальпия в отборах теорет</th>\n",
       "      <th>Энтальпия в отборах действит</th>\n",
       "    </tr>\n",
       "  </thead>\n",
       "  <tbody>\n",
       "    <tr>\n",
       "      <th>0</th>\n",
       "      <td>2.786</td>\n",
       "      <td>3199.0</td>\n",
       "      <td>3225.6</td>\n",
       "    </tr>\n",
       "    <tr>\n",
       "      <th>1</th>\n",
       "      <td>1.930</td>\n",
       "      <td>3096.5</td>\n",
       "      <td>3144.6</td>\n",
       "    </tr>\n",
       "    <tr>\n",
       "      <th>2</th>\n",
       "      <td>1.288</td>\n",
       "      <td>2993.0</td>\n",
       "      <td>3062.8</td>\n",
       "    </tr>\n",
       "    <tr>\n",
       "      <th>3</th>\n",
       "      <td>0.508</td>\n",
       "      <td>2788.6</td>\n",
       "      <td>2901.3</td>\n",
       "    </tr>\n",
       "    <tr>\n",
       "      <th>4</th>\n",
       "      <td>0.300</td>\n",
       "      <td>2830.1</td>\n",
       "      <td>2843.4</td>\n",
       "    </tr>\n",
       "    <tr>\n",
       "      <th>5</th>\n",
       "      <td>0.127</td>\n",
       "      <td>2669.4</td>\n",
       "      <td>2704.4</td>\n",
       "    </tr>\n",
       "    <tr>\n",
       "      <th>6</th>\n",
       "      <td>0.058</td>\n",
       "      <td>2541.6</td>\n",
       "      <td>2593.9</td>\n",
       "    </tr>\n",
       "    <tr>\n",
       "      <th>7</th>\n",
       "      <td>0.029</td>\n",
       "      <td>2437.8</td>\n",
       "      <td>2504.1</td>\n",
       "    </tr>\n",
       "    <tr>\n",
       "      <th>8</th>\n",
       "      <td>0.005</td>\n",
       "      <td>2206.4</td>\n",
       "      <td>2303.9</td>\n",
       "    </tr>\n",
       "  </tbody>\n",
       "</table>\n",
       "</div>"
      ],
      "text/plain": [
       "   Давления в отборах  Энтальпия в отборах теорет  \\\n",
       "0               2.786                      3199.0   \n",
       "1               1.930                      3096.5   \n",
       "2               1.288                      2993.0   \n",
       "3               0.508                      2788.6   \n",
       "4               0.300                      2830.1   \n",
       "5               0.127                      2669.4   \n",
       "6               0.058                      2541.6   \n",
       "7               0.029                      2437.8   \n",
       "8               0.005                      2206.4   \n",
       "\n",
       "   Энтальпия в отборах действит  \n",
       "0                        3225.6  \n",
       "1                        3144.6  \n",
       "2                        3062.8  \n",
       "3                        2901.3  \n",
       "4                        2843.4  \n",
       "5                        2704.4  \n",
       "6                        2593.9  \n",
       "7                        2504.1  \n",
       "8                        2303.9  "
      ]
     },
     "execution_count": 80,
     "metadata": {},
     "output_type": "execute_result"
    }
   ],
   "source": [
    "# Определяем параметры в точке 0\n",
    "h0 = np.round(PropsSI('H', 'P', P0, 'T', t0+273.15, 'IF97::Water') / 10**3, 3)\n",
    "\n",
    "# Определяем параметры на входе в турбину\n",
    "# Энтальпия на входе в турбине с учетом потерь\n",
    "\n",
    "#S01 = np.round(PropsSI('S', 'P', P0*0.99,'H', h0*1000, 'IF97::Water') / 10**3, 3)   потом поменять\n",
    "\n",
    "S01 = 6.907\n",
    "\n",
    "\n",
    "\n",
    "# Давления пара в ЦВД\n",
    "Pcvd = Potb[0 : 4]\n",
    "\n",
    "# Определим теоретические энтальпии пара в ЦВД\n",
    "hcvd_t = np.round(PropsSI('H','S', S01*1000, 'P', Pcvd*10**6, 'IF97::Water') / 10**3, 1)\n",
    "\n",
    "# Определим действительные энтальпии пара в ЦВД\n",
    "hcvd_i = np.round(h0 - (h0 - hcvd_t)*KPDcvd, 1)\n",
    "\n",
    "# Определим энтальпию и температуру пара на выходе из СПП\n",
    "tпп = 234+273.15\n",
    "# Определим давление пара на входе в ЦНД \n",
    "Pcnd = P4 * 0.93\n",
    "# Определим энтальпию и энтропию пара на входе в ЦНД\n",
    "hcnd0 = np.round(PropsSI('H', 'P', Pcnd * 10 **6,'T', 234+273.15, 'IF97::Water') / 10**3, 3)\n",
    "Scnd0 = np.round(PropsSI('S', 'P', Pcnd * 10 **6,'T', 234+273.15, 'IF97::Water') / 10**3, 3)\n",
    "# Давления пара в ЦНД\n",
    "Pcnd = Potb[4 : 9]\n",
    "# Определим теоретические энтальпии пара в ЦНД\n",
    "hcnd_t = np.round(PropsSI('H','S', Scnd0*1000, 'P', Pcnd*10**6, 'IF97::Water') / 10**3, 1)\n",
    "# Определим действительные энтальпии пара в ЦВД\n",
    "hcnd_i = np.round(hcnd0 - (hcnd0 - hcnd_t)*KPDcnd, 1)\n",
    "# Энтальпии действительных отборов\n",
    "hi_d = np.hstack((hcvd_i, hcnd_i))\n",
    "# Создаем датафрейм с результатами и выводим в табличном виде\n",
    "dat = {'Давления в отборах' : Potb,\n",
    "    'Энтальпия в отборах теорет' : np.hstack((hcvd_t, hcnd_t)),\n",
    "    'Энтальпия в отборах действит' : hi_d}\n",
    "\n",
    "df_n = pd.DataFrame(dat)\n",
    "df_n"
   ]
  },
  {
   "cell_type": "code",
   "execution_count": 81,
   "id": "952824c5",
   "metadata": {},
   "outputs": [
    {
     "data": {
      "text/plain": [
       "6.907"
      ]
     },
     "execution_count": 81,
     "metadata": {},
     "output_type": "execute_result"
    }
   ],
   "source": [
    "S01"
   ]
  },
  {
   "cell_type": "code",
   "execution_count": 82,
   "id": "b331b16d",
   "metadata": {},
   "outputs": [
    {
     "data": {
      "text/plain": [
       "7.236"
      ]
     },
     "execution_count": 82,
     "metadata": {},
     "output_type": "execute_result"
    }
   ],
   "source": [
    "Scnd0"
   ]
  },
  {
   "cell_type": "code",
   "execution_count": 83,
   "id": "fb16e81a",
   "metadata": {},
   "outputs": [
    {
     "data": {
      "text/plain": [
       "3325.444"
      ]
     },
     "execution_count": 83,
     "metadata": {},
     "output_type": "execute_result"
    }
   ],
   "source": [
    "h0"
   ]
  },
  {
   "cell_type": "code",
   "execution_count": 84,
   "id": "a1c498c9",
   "metadata": {},
   "outputs": [
    {
     "data": {
      "text/plain": [
       "1049.0929999999998"
      ]
     },
     "execution_count": 84,
     "metadata": {},
     "output_type": "execute_result"
    }
   ],
   "source": [
    "# Определим действительный теплоперепад турбины\n",
    "Hi = h0 - hcvd_i[3] + hcnd0 - hcnd_i[4]\n",
    "\n",
    "Hi"
   ]
  },
  {
   "cell_type": "code",
   "execution_count": 85,
   "id": "d8ac3164",
   "metadata": {},
   "outputs": [
    {
     "data": {
      "text/plain": [
       "2901.3"
      ]
     },
     "execution_count": 85,
     "metadata": {},
     "output_type": "execute_result"
    }
   ],
   "source": [
    "hcvd_i[3]"
   ]
  },
  {
   "cell_type": "markdown",
   "id": "951408e6",
   "metadata": {},
   "source": [
    "### Определим параметры воды в тракте основного конденсата"
   ]
  },
  {
   "cell_type": "code",
   "execution_count": 86,
   "id": "18af7821",
   "metadata": {},
   "outputs": [
    {
     "data": {
      "text/html": [
       "<div>\n",
       "<style scoped>\n",
       "    .dataframe tbody tr th:only-of-type {\n",
       "        vertical-align: middle;\n",
       "    }\n",
       "\n",
       "    .dataframe tbody tr th {\n",
       "        vertical-align: top;\n",
       "    }\n",
       "\n",
       "    .dataframe thead th {\n",
       "        text-align: right;\n",
       "    }\n",
       "</style>\n",
       "<table border=\"1\" class=\"dataframe\">\n",
       "  <thead>\n",
       "    <tr style=\"text-align: right;\">\n",
       "      <th></th>\n",
       "      <th>Pотб, МПа</th>\n",
       "      <th>tотб, С</th>\n",
       "      <th>hi, кДж/кг</th>\n",
       "      <th>Pп, МПа</th>\n",
       "      <th>ts, C</th>\n",
       "      <th>hдр, кДж/кг</th>\n",
       "      <th>tпв, С</th>\n",
       "      <th>Pпв, МПа</th>\n",
       "      <th>hпв, кДж/кг</th>\n",
       "      <th>Hj, кДж/кг</th>\n",
       "      <th>Yj</th>\n",
       "    </tr>\n",
       "    <tr>\n",
       "      <th>Точка отб.</th>\n",
       "      <th></th>\n",
       "      <th></th>\n",
       "      <th></th>\n",
       "      <th></th>\n",
       "      <th></th>\n",
       "      <th></th>\n",
       "      <th></th>\n",
       "      <th></th>\n",
       "      <th></th>\n",
       "      <th></th>\n",
       "      <th></th>\n",
       "    </tr>\n",
       "  </thead>\n",
       "  <tbody>\n",
       "    <tr>\n",
       "      <th>П1</th>\n",
       "      <td>2.786</td>\n",
       "      <td>395.8</td>\n",
       "      <td>3225.6</td>\n",
       "      <td>2.64670</td>\n",
       "      <td>227.0</td>\n",
       "      <td>989.220</td>\n",
       "      <td>224.0</td>\n",
       "      <td>5.72</td>\n",
       "      <td>962.982</td>\n",
       "      <td>99.844</td>\n",
       "      <td>0.904828</td>\n",
       "    </tr>\n",
       "    <tr>\n",
       "      <th>П2</th>\n",
       "      <td>1.930</td>\n",
       "      <td>352.5</td>\n",
       "      <td>3144.6</td>\n",
       "      <td>1.83350</td>\n",
       "      <td>208.0</td>\n",
       "      <td>900.422</td>\n",
       "      <td>205.0</td>\n",
       "      <td>5.72</td>\n",
       "      <td>876.514</td>\n",
       "      <td>180.844</td>\n",
       "      <td>0.827619</td>\n",
       "    </tr>\n",
       "    <tr>\n",
       "      <th>П3</th>\n",
       "      <td>1.288</td>\n",
       "      <td>308.6</td>\n",
       "      <td>3062.8</td>\n",
       "      <td>1.22360</td>\n",
       "      <td>188.8</td>\n",
       "      <td>812.862</td>\n",
       "      <td>185.8</td>\n",
       "      <td>5.72</td>\n",
       "      <td>791.085</td>\n",
       "      <td>262.644</td>\n",
       "      <td>0.749647</td>\n",
       "    </tr>\n",
       "    <tr>\n",
       "      <th>П4</th>\n",
       "      <td>0.508</td>\n",
       "      <td>221.5</td>\n",
       "      <td>2901.3</td>\n",
       "      <td>0.48260</td>\n",
       "      <td>150.5</td>\n",
       "      <td>642.775</td>\n",
       "      <td>147.5</td>\n",
       "      <td>1.00</td>\n",
       "      <td>621.812</td>\n",
       "      <td>424.144</td>\n",
       "      <td>0.595704</td>\n",
       "    </tr>\n",
       "    <tr>\n",
       "      <th>П5</th>\n",
       "      <td>0.300</td>\n",
       "      <td>189.1</td>\n",
       "      <td>2843.4</td>\n",
       "      <td>0.28500</td>\n",
       "      <td>131.8</td>\n",
       "      <td>561.455</td>\n",
       "      <td>128.8</td>\n",
       "      <td>1.00</td>\n",
       "      <td>541.768</td>\n",
       "      <td>509.593</td>\n",
       "      <td>0.514254</td>\n",
       "    </tr>\n",
       "    <tr>\n",
       "      <th>П6</th>\n",
       "      <td>0.127</td>\n",
       "      <td>115.4</td>\n",
       "      <td>2704.4</td>\n",
       "      <td>0.12065</td>\n",
       "      <td>104.9</td>\n",
       "      <td>446.249</td>\n",
       "      <td>101.9</td>\n",
       "      <td>1.00</td>\n",
       "      <td>427.784</td>\n",
       "      <td>648.593</td>\n",
       "      <td>0.381758</td>\n",
       "    </tr>\n",
       "    <tr>\n",
       "      <th>П7</th>\n",
       "      <td>0.058</td>\n",
       "      <td>85.1</td>\n",
       "      <td>2593.9</td>\n",
       "      <td>0.05510</td>\n",
       "      <td>83.8</td>\n",
       "      <td>356.191</td>\n",
       "      <td>80.8</td>\n",
       "      <td>1.00</td>\n",
       "      <td>339.062</td>\n",
       "      <td>759.093</td>\n",
       "      <td>0.276429</td>\n",
       "    </tr>\n",
       "    <tr>\n",
       "      <th>П8</th>\n",
       "      <td>0.029</td>\n",
       "      <td>68.3</td>\n",
       "      <td>2504.1</td>\n",
       "      <td>0.02755</td>\n",
       "      <td>67.2</td>\n",
       "      <td>285.974</td>\n",
       "      <td>64.2</td>\n",
       "      <td>1.00</td>\n",
       "      <td>269.541</td>\n",
       "      <td>848.893</td>\n",
       "      <td>0.190832</td>\n",
       "    </tr>\n",
       "    <tr>\n",
       "      <th>К</th>\n",
       "      <td>0.005</td>\n",
       "      <td>32.9</td>\n",
       "      <td>2303.9</td>\n",
       "      <td>0.00500</td>\n",
       "      <td>32.9</td>\n",
       "      <td>137.765</td>\n",
       "      <td>32.9</td>\n",
       "      <td>1.00</td>\n",
       "      <td>137.765</td>\n",
       "      <td>1049.093</td>\n",
       "      <td>0.000000</td>\n",
       "    </tr>\n",
       "  </tbody>\n",
       "</table>\n",
       "</div>"
      ],
      "text/plain": [
       "            Pотб, МПа  tотб, С  hi, кДж/кг  Pп, МПа   ts, C  hдр, кДж/кг  \\\n",
       "Точка отб.                                                                 \n",
       "П1              2.786    395.8      3225.6   2.64670  227.0      989.220   \n",
       "П2              1.930    352.5      3144.6   1.83350  208.0      900.422   \n",
       "П3              1.288    308.6      3062.8   1.22360  188.8      812.862   \n",
       "П4              0.508    221.5      2901.3   0.48260  150.5      642.775   \n",
       "П5              0.300    189.1      2843.4   0.28500  131.8      561.455   \n",
       "П6              0.127    115.4      2704.4   0.12065  104.9      446.249   \n",
       "П7              0.058     85.1      2593.9   0.05510   83.8      356.191   \n",
       "П8              0.029     68.3      2504.1   0.02755   67.2      285.974   \n",
       "К               0.005     32.9      2303.9   0.00500   32.9      137.765   \n",
       "\n",
       "            tпв, С  Pпв, МПа  hпв, кДж/кг  Hj, кДж/кг        Yj  \n",
       "Точка отб.                                                       \n",
       "П1           224.0      5.72      962.982      99.844  0.904828  \n",
       "П2           205.0      5.72      876.514     180.844  0.827619  \n",
       "П3           185.8      5.72      791.085     262.644  0.749647  \n",
       "П4           147.5      1.00      621.812     424.144  0.595704  \n",
       "П5           128.8      1.00      541.768     509.593  0.514254  \n",
       "П6           101.9      1.00      427.784     648.593  0.381758  \n",
       "П7            80.8      1.00      339.062     759.093  0.276429  \n",
       "П8            64.2      1.00      269.541     848.893  0.190832  \n",
       "К             32.9      1.00      137.765    1049.093  0.000000  "
      ]
     },
     "execution_count": 86,
     "metadata": {},
     "output_type": "execute_result"
    }
   ],
   "source": [
    "# Давление пара в подогревателях с учетом потерь в 5%\n",
    "Pheater = 0.95 * (Potb[0 : 8])\n",
    "# Определим температуры насыщения в подогревателях\n",
    "ts_h = np.round(PropsSI('T', 'P', Pheater * 10 **6, 'Q', 0, 'IF97::Water') - 273.15, 1)\n",
    "ts_k = np.round(PropsSI('T', 'P', Pk * 10 **6, 'Q', 0, 'IF97::Water') - 273.15, 1)\n",
    "# Определяем энтальпию в конденсаторе\n",
    "hdr_k = np.round(PropsSI('H', 'P', Pk * 10 **6, 'Q', 0, 'IF97::Water') / 10**3, 3)\n",
    "# Добавим к Диапазону давлений давление в конденсаторе\n",
    "Pheater1 = np.hstack((Pheater, Pk))\n",
    "# Добавим к диапазону температур температура в конденсаторе\n",
    "ts_h1 = np.hstack((ts_h, ts_k))\n",
    "# Определим температуры воды за подогревателями с учетом недогрева 3С\n",
    "tw = ts_h - 3\n",
    "# Разобьем массив на части по нагреву основного конденсата и пит.воды\n",
    "tw_pvd = tw[0:3]\n",
    "tw_pnd = tw[3:]\n",
    "# Зададим давление питтаельной воды и основного конденсата\n",
    "Ppv = 1.3 * P0 / 10 ** 6\n",
    "Pok = 1\n",
    "# Создадим массив давлений\n",
    "Pw = np.array([Ppv, Ppv, Ppv, Pok, Pok, Pok, Pok, Pok, Pok])\n",
    "# Найдем энтальпии воды за подогревателями\n",
    "# за ПВД\n",
    "hw_pvd = np.round(PropsSI('H', 'P', Ppv * 10 ** 6,'T', tw_pvd+273.15, 'IF97::Water') / 10**3, 3)\n",
    "# за ПНД\n",
    "hw_pnd = np.round(PropsSI('H', 'P', Pok * 10 ** 6,'T', tw_pnd+273.15, 'IF97::Water') / 10**3, 3)\n",
    "# Склеим массивы\n",
    "hw = np.hstack((hw_pvd, hw_pnd, hdr_k))\n",
    "tw = np.hstack((tw_pvd, tw_pnd))\n",
    "tw1 = np.hstack((tw, ts_k))\n",
    "# Определим перепад энтальпий пара между входом в ЦНД и выходом ЦВД\n",
    "dhpp = hcnd0 - hcvd_i[3] \n",
    "# Определим удельную работу пара в отборе\n",
    "Hj_cvd = h0 - hcvd_i\n",
    "Hj_cnd = h0 - hcnd_i + dhpp \n",
    "Hj = np.hstack((Hj_cvd, Hj_cnd))\n",
    "yj = (Hi - Hj) / Hi\n",
    "# Определим температуру пара в отборах\n",
    "t_id =  np.round(PropsSI('T', 'P', Potb * 10 **6,'H', hi_d * 1000, 'IF97::Water') -273.15, 1)\n",
    "# Определим энтальпию дренажей\n",
    "hdr = np.round(PropsSI('H', 'P', Potb * 10 **6, 'Q', 0, 'IF97::Water') / 10**3, 3)\n",
    "# Делаем общую сводную таблицу\n",
    "s_list = ['П1','П2','П3', 'П4', 'П5', 'П6', 'П7', 'П8', 'К' ]\n",
    "data = {'Точка отб.' : s_list,\n",
    "    'Pотб, МПа' : Potb,\n",
    "    'tотб, С' : t_id,\n",
    "    'hi, кДж/кг' : hi_d,\n",
    "    'Pп, МПа ' : Pheater1,\n",
    "     'ts, C' : ts_h1,\n",
    "    'hдр, кДж/кг' : hdr,\n",
    "       'tпв, С' : tw1,\n",
    "       'Pпв, МПа' : Pw,\n",
    "      'hпв, кДж/кг' : hw,\n",
    "       'Hj, кДж/кг' :Hj,\n",
    "       'Yj': yj}\n",
    "\n",
    "df_new = pd.DataFrame(data).set_index('Точка отб.')\n",
    "#df_new.to_csv('100.csv', index=False)\n",
    "df_new"
   ]
  },
  {
   "cell_type": "code",
   "execution_count": 87,
   "id": "f84fbe22",
   "metadata": {},
   "outputs": [
    {
     "data": {
      "text/plain": [
       "2928.849"
      ]
     },
     "execution_count": 87,
     "metadata": {},
     "output_type": "execute_result"
    }
   ],
   "source": [
    "hcnd0"
   ]
  },
  {
   "cell_type": "markdown",
   "id": "0893413b",
   "metadata": {},
   "source": [
    "## Для составления системы уравнений запишем все необходимые данные по энтальпиям отборов, основного конденсата и питательной воды, дренажей (ПВД, ПНД, СПП)"
   ]
  },
  {
   "cell_type": "markdown",
   "id": "0628de57",
   "metadata": {},
   "source": [
    "### Данные энтальпий в отборах пара"
   ]
  },
  {
   "cell_type": "code",
   "execution_count": 19,
   "id": "94f9428e",
   "metadata": {},
   "outputs": [],
   "source": [
    "h1 = hi_d[0]\n",
    "h2 = hi_d[1]\n",
    "h3 = hi_d[2]\n",
    "h4 = hi_d[3]\n",
    "h5 = hi_d[4]\n",
    "h6 = hi_d[5]\n",
    "h7 = hi_d[6]\n",
    "h8 = hi_d[7]\n",
    "hk = hi_d[8]"
   ]
  },
  {
   "cell_type": "markdown",
   "id": "e049f449",
   "metadata": {},
   "source": [
    "### Данные энтальпий воды за подогревателями и конденсатором"
   ]
  },
  {
   "cell_type": "code",
   "execution_count": 7,
   "id": "98679a39",
   "metadata": {},
   "outputs": [
    {
     "data": {
      "text/plain": [
       "float"
      ]
     },
     "execution_count": 7,
     "metadata": {},
     "output_type": "execute_result"
    }
   ],
   "source": [
    "type(h3)"
   ]
  },
  {
   "cell_type": "code",
   "execution_count": 21,
   "id": "fc024710",
   "metadata": {},
   "outputs": [],
   "source": [
    "Pd = 0.6 # Давление в деаэраторе\n",
    "# Определим энтальпию воды после деаэратора\n",
    "hwd = np.round(PropsSI('H', 'P', Pd * 10 ** 6, 'Q', 0, 'IF97::Water') / 10**3, 1)\n",
    "# Определим энтальпию выпара в деаэраторе \n",
    "hpd = np.round(PropsSI('H', 'P', Pd * 10 ** 6, 'Q', 1, 'IF97::Water') / 10**3, 1)\n",
    "# Относительный расход пара на эжектора\n",
    "aeg = 0.005\n",
    "# Энтальпии воды за подогревателями\n",
    "hw1 = hw[0]\n",
    "hw2 = hw[1]\n",
    "hw3 = hw[2]\n",
    "hw4 = hw[3]\n",
    "hw5 = hw[4]\n",
    "hw6 = hw[5]\n",
    "hw7 = hw[6]\n",
    "hw8 = hw[7]\n",
    "hwk = np.round((hw[8] + (2 + 4) * 4.2), 1) # Энтальпия воды после нагрева в ОЭ и ОУ\n",
    "hpn = 676.3"
   ]
  },
  {
   "cell_type": "code",
   "execution_count": 9,
   "id": "7c2b0d54",
   "metadata": {},
   "outputs": [
    {
     "data": {
      "text/plain": [
       "2756.1"
      ]
     },
     "execution_count": 9,
     "metadata": {},
     "output_type": "execute_result"
    }
   ],
   "source": [
    "type(hpd)\n",
    "hpd"
   ]
  },
  {
   "cell_type": "markdown",
   "id": "9f80e37f",
   "metadata": {},
   "source": [
    "### Данные энтальпий дренажей"
   ]
  },
  {
   "cell_type": "code",
   "execution_count": 22,
   "id": "71256313",
   "metadata": {},
   "outputs": [],
   "source": [
    "hdr1 = hdr[0]\n",
    "hdr2 = hdr[1]\n",
    "hdr3 = hdr[2]\n",
    "hdr4 = hdr[3]\n",
    "hdr5 = hdr[4]\n",
    "hdr6 = hdr[5]\n",
    "hdr7 = hdr[6]\n",
    "hdr8 = hdr[7]"
   ]
  },
  {
   "cell_type": "markdown",
   "id": "52e8f3f6",
   "metadata": {},
   "source": [
    "### Данные по тракту сепаратора пароперегревателя"
   ]
  },
  {
   "cell_type": "code",
   "execution_count": 46,
   "id": "883e2112",
   "metadata": {},
   "outputs": [
    {
     "data": {
      "text/plain": [
       "1108.6"
      ]
     },
     "execution_count": 46,
     "metadata": {},
     "output_type": "execute_result"
    }
   ],
   "source": [
    "# Давление на выходе из сепаратора\n",
    "Psep = 0.98 * P4\n",
    "# Степень сухости на выходе из ЦВД \n",
    "Xcvd = np.round(PropsSI('Q', 'P', Psep *10 ** 6, 'H', h4 * 1000, 'IF97::Water'), 3)\n",
    "# Степень сухости пара на выходе из сепаратора\n",
    "Xsep = 0.995\n",
    "# Энтальпия пара на выходе из сепаратора\n",
    "hsep = np.round(PropsSI('H', 'P', Psep * 10 ** 6, 'Q', Xsep, 'IF97::Water') / 10**3, 1)\n",
    "# Энтальпия дренажа сепаратора\n",
    "hsep_dr = float(np.round(PropsSI('H', 'P', Psep * 10 ** 6, 'Q', 0, 'IF97::Water') / 10**3, 1))\n",
    "# Температура пара на выходе из ПП1\n",
    "tpp1 = t_id[0] - 15\n",
    "# Давление на выходе из ПП1\n",
    "Ppp1 = 0.98 * Psep\n",
    "# Энтальпия пара на выходе из ПП1\n",
    "hpp1 = np.round(PropsSI('H', 'P', Ppp1 * 10 ** 6, 'T', tpp1 + 273.15, 'IF97::Water') / 10**3, 1)\n",
    "hpp_dr = hdr1\n",
    "hpp_dr\n",
    "# Энтальпия пара на выходе из ПП2\n",
    "hpp2 = float(hcnd0)\n",
    "# Энтальпия дренажа ПП2\n",
    "hpp2_dr = np.round(PropsSI('H', 'P', P0, 'Q', 0, 'IF97::Water') / 10**3, 1)\n",
    "# Удал влага\n",
    "yvlag = (Xsep - Xcvd)/Xsep\n",
    "hpp2_dr"
   ]
  },
  {
   "cell_type": "code",
   "execution_count": 43,
   "id": "f55fa27a",
   "metadata": {},
   "outputs": [
    {
     "data": {
      "text/plain": [
       "0.885"
      ]
     },
     "execution_count": 43,
     "metadata": {},
     "output_type": "execute_result"
    }
   ],
   "source": [
    "Xcvd"
   ]
  },
  {
   "cell_type": "markdown",
   "id": "40c28601",
   "metadata": {},
   "source": [
    "## Составление и решение системы уравнений.\n",
    "#### Решать уравнение будем, используя модуль sympy для символьного исчисления\n",
    "#### `Сначала создадим символы всех неизвестных`"
   ]
  },
  {
   "cell_type": "code",
   "execution_count": 11,
   "id": "1ce3bd72",
   "metadata": {},
   "outputs": [],
   "source": [
    "# Относительный расход питательной воды\n",
    "#apv = sym.Symbol('apv')\n",
    "# Относительный расход отсепарированной влаги\n",
    "asep = sym.Symbol('asep')\n",
    "# Относительный расход пара на ПП1\n",
    "app1 = sym.Symbol('app1')\n",
    "# Относительный расход пара на ПП2\n",
    "app2 = sym.Symbol('app2')\n",
    "# Относительные расходы пара на ПВД и Деаэаратор\n",
    "a1 = sym.Symbol('a1')\n",
    "a2 = sym.Symbol('a2')\n",
    "a3 = sym.Symbol('a3')\n",
    "ad = sym.Symbol('ad')\n",
    "# Относительный расход основного конденсата\n",
    "aok = sym.Symbol('aok')\n",
    "# Относительные расходы пара на ПНД\n",
    "a4 = sym.Symbol('a4')\n",
    "a5 = sym.Symbol('a5')\n",
    "a6 = sym.Symbol('a6')\n",
    "a7 = sym.Symbol('a7')\n",
    "a8 = sym.Symbol('a8')\n",
    "# Относительный расход на выходе из конденсатора\n",
    "aok1 = sym.Symbol('aok1')\n",
    "# Точка смешения 2- горячая , 1 -холодная\n",
    "hsm1 = sym.Symbol('hsm1')\n",
    "hsm2 = sym.Symbol('hsm2')\n",
    "\n"
   ]
  },
  {
   "cell_type": "markdown",
   "id": "8d0bd652",
   "metadata": {},
   "source": [
    "### Составляем систему уравнений"
   ]
  },
  {
   "cell_type": "code",
   "execution_count": 58,
   "id": "913d3bd1",
   "metadata": {},
   "outputs": [
    {
     "data": {
      "text/plain": [
       "1108.6"
      ]
     },
     "execution_count": 58,
     "metadata": {},
     "output_type": "execute_result"
    }
   ],
   "source": [
    "hpp2_dr "
   ]
  },
  {
   "cell_type": "code",
   "execution_count": 67,
   "id": "bc7eac90",
   "metadata": {},
   "outputs": [
    {
     "data": {
      "text/plain": [
       "[]"
      ]
     },
     "execution_count": 67,
     "metadata": {},
     "output_type": "execute_result"
    }
   ],
   "source": [
    "sym.solve((asep - yvlag * (1 - a1 - a2 - a3  - app1 - ad -a4), \n",
    "         (1 - a1 - a2 - a3 - a4 - app1 - ad) * h4 - asep * hsep_dr - (1 - a1 - a2 - a3 - a4 - app1 - ad - asep) * hsep,\n",
    "         app1 * (h1 - hdr1) - (1 - a1 - a2  - a3 - a4 - app1 - ad - asep) * (hpp1 - hsep),\n",
    "         app2 * (h0 - hpp2_dr) - (1 - a1 - a2 - a3 - a4 - app1 - ad - asep) * (hpp2 - hpp1),\n",
    "         apv - 1.015 - app2,\n",
    "         a1 * (h1 - hdr1) + app2 * (hpp2_dr - hdr1) - apv *(hw1 -hw2),\n",
    "        (a1 + app2) * (hdr1 - hdr2) + a2 * (h2 - hdr2) - apv *(hw2 -hw3),\n",
    "        (a1 + app2 + a2) * (hdr2 - hdr3) + a3 * (h3 - hdr3) + app1 * (hdr1 - hdr3) - apv *(hw3 -hpn),\n",
    "        (aok1 + a6 + a7 + a5 + a4) * hw4 + (a1 + a2 + a3 + app1 + app2) * hdr3 + ad * h3 + asep * hsep_dr - apv * hwd - aeg * hpd,\n",
    "        aok1 + a6 + a7 + a5 + a4 + a1 + a2 + a3 + app1 + app2 + ad  + asep  - apv - aeg,\n",
    "        a4 * (h4 - hdr4) - (aok1 + a6 + a7 + a5 + a4) * (hw4 - hsm2),\n",
    "        (a4 + a5) * hdr5 + (aok1 + a6 + a7) * hw5 - (aok1 + a6 + a7 + a5 + a4) * hsm2,\n",
    "        a5 * (h5 - hdr5) + a4 * (hdr4 - hdr5) - (aok1 + a6 + a7) * (hw5 - hw6),\n",
    "        a6 * (h6 - hdr6) - (aok1 + a6 + a7) * (hw6 - hsm1),\n",
    "        (a6 + a7) * hdr7 + (aok1) * hw7 - (aok1 + a6 + a7) * hsm1,\n",
    "        a7 * (h7 - hdr7) + a6 * (hdr6 - hdr7) - aok1 * (hw7 - hw8),\n",
    "        a8 * (h8 - hdr8) - aok1 * (hw8 - hwk)), apv, asep, app1, app2, a1, a2, a3, ad, a4, a5, a6, a7, a8, aok1, hsm1, hsm2)"
   ]
  },
  {
   "cell_type": "code",
   "execution_count": 68,
   "id": "c9cd1eca",
   "metadata": {},
   "outputs": [
    {
     "data": {
      "text/latex": [
       "$\\displaystyle - app_{2} + apv - 1.015$"
      ],
      "text/plain": [
       "-app2 + apv - 1.015"
      ]
     },
     "execution_count": 68,
     "metadata": {},
     "output_type": "execute_result"
    }
   ],
   "source": [
    "apv - 1.015 - app2"
   ]
  },
  {
   "cell_type": "code",
   "execution_count": null,
   "id": "9eb50990",
   "metadata": {},
   "outputs": [],
   "source": [
    "sym.solve([a1 * (h1 - hdr1) - apv *(hw1 -hw2),\n",
    "        (a1) * (hdr1 - hdr2) + a2 * (h2 - hdr2) - apv *(hw2 -500),\n",
    "        (a1 + a2) * hdr2 + aok * hw4 - apv * hsm1,\n",
    "        a1 + a2 + aok - apv,\n",
    "        a4 * (h4 - hdr4) - aok * (hw4 - 300)], "
   ]
  },
  {
   "cell_type": "code",
   "execution_count": 26,
   "id": "5cdb54f5",
   "metadata": {},
   "outputs": [
    {
     "data": {
      "text/plain": [
       "1108.6"
      ]
     },
     "execution_count": 26,
     "metadata": {},
     "output_type": "execute_result"
    }
   ],
   "source": [
    "hpp2_dr"
   ]
  },
  {
   "cell_type": "code",
   "execution_count": 65,
   "id": "34295b7a",
   "metadata": {},
   "outputs": [],
   "source": [
    "f1 = sym.expand(asep - yvlag * (1 - a1 - a2 - a3 - a4 - app1 - ad))\n",
    "f2 = sym.expand((1 - a1 - a2 - a3 - a4 - app1 - ad) * h4 - asep * hsep_dr - (1 - a1 - a2 - a3 - a4 - app1 - ad - asep) * hsep)\n",
    "f3 = sym.expand(app1 * (h1 - hdr1) - (1 - a1 - a2  - a3 - a4 - app1 - ad - asep) * (hpp1 - hsep))\n",
    "f4 = sym.expand(app2 * (h0 - hpp2_dr) - (1 - a1 - a2 - a3 - a4 - app1 - ad - asep) * (hpp2 - hpp1))\n",
    "f5 = sym.expand(apv - 1.015 - app2)\n",
    "f6 = sym.expand(a1 * (h1 - hdr1) + app2 * (hpp2_dr - hdr1) - apv *(hw1 -hw2))\n",
    "f7 = sym.expand((a1 + app2) * (hdr1 - hdr2) + a2 * (h2 - hdr2) - apv *(hw2 -hw3))\n",
    "f8 = sym.expand((a1 + app2 + a2) * (hdr2 - hdr3) + a3 * (h3 - hdr3) + app1 * (hdr1 - hdr3) - apv *(hw3 -hpn))\n",
    "f9 = sym.expand(aok * hw4 + (a1 + a2 + a3 + app1 + app2) * hdr3 + ad * h3 + asep * hsep_dr - apv * hwd - aeg * hpd)\n",
    "f10 = sym.expand(aok + a1 + a2 + a3 + app1 + app2 + ad  + asep  - apv - aeg)\n",
    "f11 = sym.expand(a4 * (h4 - hdr4) - aok * (hw4 - hsm2))\n",
    "f12 = sym.expand((a4 + a5) * hdr5 + (aok1 + a8 + a6 + a7) * hw5 - aok * hsm2)\n",
    "f13 = sym.expand(aok - (aok1 + a8 + a6 + a7 + a5 + a4))\n",
    "f14 = sym.expand(a5 * (h5 - hdr5) + a4 * (hdr4 - hdr5) - (aok1 + a8 + a6 + a7) * (hw5 - hw6))\n",
    "f15 = sym.expand(a6 * (h6 - hdr6) - (aok1 + a8 + a6 + a7) * (hw6 - hsm1))\n",
    "f16 = sym.expand((a5 + a6) * hdr7 + (aok1 + a8) * hw7 - (aok1 + a8 + a6 + a7) * hsm1)\n",
    "f17 = sym.expand(a7 * (h7 - hdr7) + a6 * (hdr6 - hdr7) - (aok1 + a8) * (hw7 - hw8))\n",
    "f18 = sym.expand(a8 * (h8 - hdr8) - (aok1 + a8) * (hw8 - hwk))"
   ]
  },
  {
   "cell_type": "code",
   "execution_count": 35,
   "id": "4ab136d3",
   "metadata": {},
   "outputs": [],
   "source": [
    "lin_s = [f1, f2, f3, f4, f5, f6, f7, f8, f9, f10, f11, f12, f13, f14, f15, f16, f17]"
   ]
  },
  {
   "cell_type": "code",
   "execution_count": null,
   "id": "6ae119de",
   "metadata": {},
   "outputs": [],
   "source": []
  },
  {
   "cell_type": "code",
   "execution_count": 64,
   "id": "b0fdb33a",
   "metadata": {},
   "outputs": [
    {
     "name": "stdout",
     "output_type": "stream",
     "text": [
      "639.5 <class 'float'>\n",
      "2737.4 <class 'numpy.float64'>\n",
      "1751.18 <class 'numpy.float64'>\n",
      "150.5999999999999 <class 'numpy.float64'>\n",
      "1690.67 <class 'numpy.float64'>\n",
      "42.30699999999979 <class 'numpy.float64'>\n",
      "1751.18 <class 'numpy.float64'>\n",
      "119.37999999999988 <class 'numpy.float64'>\n",
      "86.48399999999992 <class 'numpy.float64'>\n",
      "88.798 <class 'numpy.float64'>\n",
      "1785.478 <class 'numpy.float64'>\n",
      "85.44200000000001 <class 'numpy.float64'>\n",
      "87.56000000000006 <class 'numpy.float64'>\n",
      "1815.438 <class 'numpy.float64'>\n",
      "176.35800000000006 <class 'numpy.float64'>\n",
      "114.7220000000001 <class 'numpy.float64'>\n",
      "812.862 <class 'numpy.float64'>\n",
      "2628.3 <class 'numpy.float64'>\n",
      "639.5 <class 'float'>\n",
      "670.5 <class 'numpy.float64'>\n",
      "2756.1 <class 'numpy.float64'>\n",
      "1862.4249999999997 <class 'numpy.float64'>\n",
      "561.455 <class 'numpy.float64'>\n",
      "541.768 <class 'numpy.float64'>\n",
      "2282.945 <class 'numpy.float64'>\n",
      "81.31999999999994 <class 'numpy.float64'>\n",
      "113.98400000000004 <class 'numpy.float64'>\n",
      "2259.0510000000004 <class 'numpy.float64'>\n",
      "356.191 <class 'numpy.float64'>\n",
      "339.062 <class 'numpy.float64'>\n",
      "2238.509 <class 'numpy.float64'>\n",
      "90.05800000000005 <class 'numpy.float64'>\n",
      "69.52100000000002 <class 'numpy.float64'>\n",
      "2218.926 <class 'numpy.float64'>\n",
      "106.541 <class 'numpy.float64'>\n"
     ]
    }
   ],
   "source": [
    "mnk_list = [hsep_dr, hsep, h1 - hdr1, hpp1 - hsep, h0 - hpp2_dr, hpp2 - hpp1, h1 - hdr1,\n",
    "hpp2_dr - hdr1, hw1 -hw2, hdr1 - hdr2, h2 - hdr2, hw2 -hw3, hdr2 - hdr3,\n",
    "h3 - hdr3, hdr1 - hdr3, hw3 -hpn, hdr3, h3, hsep_dr, hwd, hpd,\n",
    "h4 - hdr4, hdr5, hw5, h5 - hdr5, hdr4 - hdr5, hw5 - hw6, h6 - hdr6, hdr7,\n",
    "hw7, h7 - hdr7, hdr6 - hdr7, hw7 - hw8, h8 - hdr8, hw8 - hwk]\n",
    "\n",
    "for i in mnk_list:\n",
    "    print(i, type(i))"
   ]
  },
  {
   "cell_type": "code",
   "execution_count": 51,
   "id": "277a7161",
   "metadata": {},
   "outputs": [
    {
     "data": {
      "text/plain": [
       "float"
      ]
     },
     "execution_count": 51,
     "metadata": {},
     "output_type": "execute_result"
    }
   ],
   "source": [
    "type(hsep_dr)"
   ]
  },
  {
   "cell_type": "code",
   "execution_count": null,
   "id": "d26b253b",
   "metadata": {},
   "outputs": [],
   "source": []
  },
  {
   "cell_type": "code",
   "execution_count": 21,
   "id": "2ecdd924",
   "metadata": {},
   "outputs": [],
   "source": [
    "h1 = 3034.4\n",
    "h2 = 2941.7\n",
    "#h3 = 3303.1\n",
    "h4 = 3191.6\n",
    "h5 = 3015\n",
    "h6 = 2929.9\n",
    "h7 = 2706.1\n",
    "h8 = 2602.3\n",
    "hk = 2367.3"
   ]
  },
  {
   "cell_type": "code",
   "execution_count": 23,
   "id": "62b54f73",
   "metadata": {},
   "outputs": [],
   "source": [
    "hw1 = 1205.5\n",
    "hw2 = 1063.1\n",
    "#hw3 = \n",
    "hw4 = 746.4\n",
    "hw5 = 624.9\n",
    "hw6 = 510\n",
    "hw7 = 393\n",
    "hw8 = 214.2\n",
    "hwk = 135"
   ]
  },
  {
   "cell_type": "code",
   "execution_count": 24,
   "id": "84b5242a",
   "metadata": {},
   "outputs": [],
   "source": [
    "hdr1 = 1224.2\n",
    "hdr2 = 1073.5\n",
    "#hdr3 = 842.7\n",
    "hdr4 = 758.8\n",
    "hdr5 = 632.3\n",
    "hdr6 = 517\n",
    "hdr7 = 393\n",
    "hdr8 = 221.7\n",
    "apv = 1.05\n",
    "dh = 32.7"
   ]
  },
  {
   "cell_type": "code",
   "execution_count": 27,
   "id": "916ed4ed",
   "metadata": {},
   "outputs": [
    {
     "data": {
      "text/plain": [
       "[{a1: 0.0825986078886311,\n",
       "  a2: 0.117858326948851,\n",
       "  a4: 0.0424282647226430,\n",
       "  a5: 0.0387146190035502,\n",
       "  a6: 0.0373164093540489,\n",
       "  a7: 0.0465623925945507,\n",
       "  a8: 0.0227732896141426,\n",
       "  aok1: 0.684521379487725,\n",
       "  hsm1: 808.847107986038,\n",
       "  aok: 0.849543065162518}]"
      ]
     },
     "execution_count": 27,
     "metadata": {},
     "output_type": "execute_result"
    }
   ],
   "source": [
    "# Ольгино задать apv\n",
    "sym.solve([a1 * (h1 - hdr1) - apv *(hw1 -hw2),\n",
    "        a1 * (hdr1 - hdr2) + a2 * (h2 - hdr2) - apv *(hw2 -hsm1-32.7),\n",
    "        (a1 + a2) * hdr2 + aok * hw4 - apv * hsm1,\n",
    "        a1 + a2 + aok - apv,\n",
    "        aok - (aok1 + a4 + a5 + a6 + a7),\n",
    "        a4 * (h4 - hdr4) - aok * (hw4 - hw5), \n",
    "        a5 * (h5 - hdr5) + a4 * (hdr4 - hdr5) - aok * (hw5 - hw6),\n",
    "        a6 * (h6 - hdr6)  + (a4 + a5) * (hdr5 - hdr6) - aok * (hw6 - hw7),\n",
    "        a7 * h7 + aok1 * hw8 + (a4 + a5 + a6) * hdr6 - aok * hw7,\n",
    "        a8 * (h8 - hdr8) - aok1 *(hw8 - hwk)], a1, a2, a4, a5, a6, a7, a8, aok1, hsm1, aok, dict=True)"
   ]
  }
 ],
 "metadata": {
  "kernelspec": {
   "display_name": "Python 3",
   "language": "python",
   "name": "python3"
  },
  "language_info": {
   "codemirror_mode": {
    "name": "ipython",
    "version": 3
   },
   "file_extension": ".py",
   "mimetype": "text/x-python",
   "name": "python",
   "nbconvert_exporter": "python",
   "pygments_lexer": "ipython3",
   "version": "3.8.8"
  }
 },
 "nbformat": 4,
 "nbformat_minor": 5
}
